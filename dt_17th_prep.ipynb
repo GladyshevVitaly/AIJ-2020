{
 "cells": [
  {
   "cell_type": "markdown",
   "metadata": {},
   "source": [
    "# Подготовка корпуса текстов 17-го века для AIJ 2020 PG"
   ]
  },
  {
   "cell_type": "code",
   "execution_count": 147,
   "metadata": {},
   "outputs": [],
   "source": [
    "import numpy as np\n",
    "import pandas as pd\n",
    "from tqdm import tqdm\n",
    "from pathlib import Path\n",
    "import string\n",
    "import re"
   ]
  },
  {
   "cell_type": "markdown",
   "metadata": {},
   "source": [
    "## Формируем корпус для обучения модели из коллекции текстов 17 века, которая была предложена организаторами соревнования GramEval2020"
   ]
  },
  {
   "cell_type": "code",
   "execution_count": 148,
   "metadata": {},
   "outputs": [
    {
     "data": {
      "text/plain": [
       "'!\"#$%&\\'()*+,-./:;<=>?@[\\\\]^_`{|}~'"
      ]
     },
     "execution_count": 148,
     "metadata": {},
     "output_type": "execute_result"
    }
   ],
   "source": [
    "string.punctuation"
   ]
  },
  {
   "cell_type": "code",
   "execution_count": 149,
   "metadata": {},
   "outputs": [],
   "source": [
    "letters = [' ', ')', '+', '/', '0', '1', '2', '3', '4', '5', '6', '7', '8', '9', '[', ']', 'i', 'k', 'l', '|', '×', 'ǂ',\n",
    "           'а', 'б', 'в', 'г', 'д', 'е', 'ж', 'з', 'и', 'й', 'к', 'л', 'м', 'н', 'о', 'п', 'р', 'с', 'т', 'у', 'ф', 'х',\n",
    "           'ц', 'ч', 'ш', 'щ', 'ъ', 'ы', 'ь', 'э', 'ю', 'я', 'і', 'ѣ', '–', '…', '⊕', '⊗']"
   ]
  },
  {
   "cell_type": "code",
   "execution_count": 150,
   "metadata": {},
   "outputs": [],
   "source": [
    "exc_sym = '!\"#$%&\\'(*,-.:;<=>?@\\\\^_`{}~'"
   ]
  },
  {
   "cell_type": "code",
   "execution_count": 151,
   "metadata": {},
   "outputs": [
    {
     "name": "stderr",
     "output_type": "stream",
     "text": [
      "3299994it [00:47, 69076.94it/s]\n"
     ]
    }
   ],
   "source": [
    "grameval = Path(\"grameval_17_century.txt\")\n",
    "if not grameval.is_file():\n",
    "    with open(\"grameval_17_century.txt\", \"w\", encoding='utf-8') as fout:   #, errors='ignore'\n",
    "        with open(\"GramEval2020-17cent-dirty.conllu\", \"r\", encoding='utf-8') as fin: #, errors='ignore'\n",
    "            sent = \"\"\n",
    "            cnt = 0\n",
    "            for line in tqdm(fin):\n",
    "                cnt += 1\n",
    "                if len(line) == 1:\n",
    "                    sent = sent.strip()\n",
    "                    sent = re.sub(\"\\n\", \"\", sent)\n",
    "                    if (len(sent) > 3):\n",
    "                        fout.write(sent + \"\\n\")\n",
    "                    sent = \"\"\n",
    "                else:\n",
    "                    if line.startswith(\"#\"):\n",
    "                        continue\n",
    "                    line = line.split(\"\\t\")[1]\n",
    "                    line = line.lower()\n",
    "                    if line.startswith(\"{\"):\n",
    "                        continue\n",
    "                    if line.startswith(\"<\"):\n",
    "                        continue\n",
    "    #                 if line in exc_sym:\n",
    "    #                     continue\n",
    "                    sent += ''.join([ch if ch in letters else \" \" for ch in line])\n",
    "                    sent = sent.strip()\n",
    "    #                 sent += line\n",
    "                    sent += \" \"\n",
    "                    if len(sent) > 65:\n",
    "                        sent = re.sub(\"\\n\", \"\", sent)\n",
    "                        fout.write(sent + \"\\n\")\n",
    "                        sent = \"\""
   ]
  },
  {
   "cell_type": "code",
   "execution_count": 152,
   "metadata": {},
   "outputs": [
    {
     "data": {
      "text/plain": [
       "0"
      ]
     },
     "execution_count": 152,
     "metadata": {},
     "output_type": "execute_result"
    }
   ],
   "source": [
    "sent = \" \"\n",
    "sent = sent.strip()\n",
    "len(sent)"
   ]
  },
  {
   "cell_type": "markdown",
   "metadata": {},
   "source": [
    "## Формируем модель"
   ]
  },
  {
   "cell_type": "code",
   "execution_count": 153,
   "metadata": {},
   "outputs": [],
   "source": [
    "fname = \"grameval_17_century.txt\""
   ]
  },
  {
   "cell_type": "code",
   "execution_count": 154,
   "metadata": {},
   "outputs": [],
   "source": [
    "def read_grameval(fname=fname):\n",
    "    with open(fname, \"r\", encoding='utf-8') as f:\n",
    "        lines = [x[:-1] for x in f.readlines()]\n",
    "        return lines"
   ]
  },
  {
   "cell_type": "code",
   "execution_count": 155,
   "metadata": {},
   "outputs": [
    {
     "data": {
      "text/plain": [
       "'и съ тое земли по прежнимъ книгамъ по окладнымъ ясашнымъ книгамъ денги '"
      ]
     },
     "execution_count": 155,
     "metadata": {},
     "output_type": "execute_result"
    }
   ],
   "source": [
    "grameval_texts = read_grameval(fname)\n",
    "\n",
    "grameval_texts[-5]"
   ]
  },
  {
   "cell_type": "code",
   "execution_count": 156,
   "metadata": {},
   "outputs": [
    {
     "data": {
      "text/plain": [
       "'къ сей владѣной выписи великого государя царя и великого князя алексѣя '"
      ]
     },
     "execution_count": 156,
     "metadata": {},
     "output_type": "execute_result"
    }
   ],
   "source": [
    "grameval_texts[-3]"
   ]
  },
  {
   "cell_type": "code",
   "execution_count": 157,
   "metadata": {},
   "outputs": [
    {
     "data": {
      "text/plain": [
       "284622"
      ]
     },
     "execution_count": 157,
     "metadata": {},
     "output_type": "execute_result"
    }
   ],
   "source": [
    "len(grameval_texts)"
   ]
  },
  {
   "cell_type": "code",
   "execution_count": 158,
   "metadata": {},
   "outputs": [
    {
     "data": {
      "text/plain": [
       "'федоровичю всеа русии из арзамаса стольник и воевода князь михайло '"
      ]
     },
     "execution_count": 158,
     "metadata": {},
     "output_type": "execute_result"
    }
   ],
   "source": [
    "grameval_texts[20060]"
   ]
  },
  {
   "cell_type": "markdown",
   "metadata": {},
   "source": [
    "## Зададим набор правил для аугментации данных с использованием шума и специфики стиля Петра I"
   ]
  },
  {
   "cell_type": "code",
   "execution_count": 159,
   "metadata": {},
   "outputs": [],
   "source": [
    "import random\n",
    "\n",
    "# p of substitution = 1/znam\n",
    "znam = 2\n",
    "\n",
    "rules = []\n",
    "\n",
    "#Традиционно над строкой Петр пишет «з» и «с», конечное «х», также «к» перед широкой размашистой «ж»\n",
    "rules.append(('з',''))\n",
    "rules.append(('c',''))\n",
    "rules.append(('x',''))\n",
    "rules.append(('кж', 'ж'))\n",
    "#вместо старого «ѧ» уже регулярно употребляет вполне современное «я»\n",
    "rules.append(('ѧ', 'я'))\n",
    "#Не любит буквы «s» («зело») и «ѵ» \n",
    "rules.append(('s', ''))\n",
    "rules.append(('ѵ', ''))\n",
    "#Мягкий знак пропускает\n",
    "rules.append(('ь', ''))\n",
    "\n",
    "\n",
    "def replace_letters(line, to_replace, replace_by, znam=2):\n",
    "    new_line = ''\n",
    "    for letter in line:\n",
    "        if letter == to_replace and random.randint(0, znam - 1) % znam == 0:\n",
    "            new_line = new_line + replace_by\n",
    "        else:\n",
    "            new_line = new_line + letter\n",
    "    return new_line\n",
    "    \n",
    "\n",
    "def apply_rule(lines, rule, znam=2):\n",
    "    to_replace, replace_by = rule\n",
    "    res = [\n",
    "        replace_letters(line, to_replace, replace_by) for line in lines\n",
    "    ]\n",
    "    return res"
   ]
  },
  {
   "cell_type": "code",
   "execution_count": 160,
   "metadata": {},
   "outputs": [
    {
     "name": "stdout",
     "output_type": "stream",
     "text": [
      "Peter's writing rules:\n",
      "[('з', ''), ('c', ''), ('x', ''), ('кж', 'ж'), ('ѧ', 'я'), ('s', ''), ('ѵ', ''), ('ь', '')]\n"
     ]
    }
   ],
   "source": [
    "print(\"Peter's writing rules:\")\n",
    "print(rules)"
   ]
  },
  {
   "cell_type": "code",
   "execution_count": 161,
   "metadata": {},
   "outputs": [
    {
     "name": "stderr",
     "output_type": "stream",
     "text": [
      "Generating data...: 100%|████████████████████████| 8/8 [00:40<00:00,  5.03s/it]\n"
     ]
    }
   ],
   "source": [
    "for rule in tqdm(rules, total=len(rules), desc=\"Generating data...\"):\n",
    "    grameval_texts = apply_rule(grameval_texts, rule)"
   ]
  },
  {
   "cell_type": "code",
   "execution_count": 162,
   "metadata": {},
   "outputs": [
    {
     "data": {
      "text/plain": [
       "'приложилъ столникъ и воевода алексѣй петровичъ головинъ'"
      ]
     },
     "execution_count": 162,
     "metadata": {},
     "output_type": "execute_result"
    }
   ],
   "source": [
    "grameval_texts[-1]"
   ]
  },
  {
   "cell_type": "code",
   "execution_count": 163,
   "metadata": {},
   "outputs": [
    {
     "data": {
      "text/plain": [
       "284622"
      ]
     },
     "execution_count": 163,
     "metadata": {},
     "output_type": "execute_result"
    }
   ],
   "source": [
    "len(grameval_texts)"
   ]
  },
  {
   "cell_type": "markdown",
   "metadata": {},
   "source": [
    "## Построим словарь для генерации шума"
   ]
  },
  {
   "cell_type": "code",
   "execution_count": 164,
   "metadata": {},
   "outputs": [],
   "source": [
    "import os\n",
    "from collections import Counter\n",
    "\n",
    "\n",
    "trans_dir = 'C:\\\\tmp\\\\datasets\\\\train\\\\words'\n",
    "image_dir = 'C:\\\\tmp\\\\datasets\\\\train\\\\images'\n",
    "\n",
    "english = ['a', 'b', 'c', 'd', 'e', 'f', 'g', 'h', 'm', 'n' ,'o', 'p', 'r', 's', 't', 'u', 'w']\n",
    "\n",
    "\n",
    "def process_texts(image_dir, trans_dir):\n",
    "    lens = []\n",
    "    include_english = 0\n",
    "    letters = ''\n",
    "\n",
    "    lines = []\n",
    "    names = []\n",
    "    \n",
    "    all_files = os.listdir(trans_dir)\n",
    "    for filename in os.listdir(image_dir):\n",
    "        if filename[:-3]+'txt' in all_files:\n",
    "            name, ext = os.path.splitext(filename)\n",
    "            txt_filepath = os.path.join(trans_dir, name + '.txt')\n",
    "            with open(txt_filepath, 'r', encoding='utf-8') as file:\n",
    "                data = file.read()\n",
    "                if len(data)==0:\n",
    "                    continue\n",
    "                if len(set(data).intersection(english))>0:\n",
    "                    continue\n",
    "\n",
    "                lines.append(data)\n",
    "                names.append(filename)\n",
    "                lens.append(len(data))\n",
    "                letters += data\n",
    "\n",
    "    print('Максимальная длина строки:', max(lens))\n",
    "    print('Количество строк с английскими буквами ', include_english)\n",
    "\n",
    "    return names, lines, Counter(letters)"
   ]
  },
  {
   "cell_type": "code",
   "execution_count": 165,
   "metadata": {},
   "outputs": [
    {
     "name": "stdout",
     "output_type": "stream",
     "text": [
      "Максимальная длина строки: 71\n",
      "Количество строк с английскими буквами  0\n"
     ]
    }
   ],
   "source": [
    "names, lines, cnt = process_texts(image_dir,trans_dir)"
   ]
  },
  {
   "cell_type": "code",
   "execution_count": 166,
   "metadata": {},
   "outputs": [
    {
     "name": "stdout",
     "output_type": "stream",
     "text": [
      "Символы train:   ) + / 0 1 2 3 4 5 6 7 8 9 [ ] i k l | × ǂ а б в г д е ж з и й к л м н о п р с т у ф х ц ч ш щ ъ ы ь э ю я і ѣ – … ⊕ ⊗\n"
     ]
    }
   ],
   "source": [
    "letters = sorted(list(cnt.keys()))\n",
    "print('Символы train:', ' '.join(letters))"
   ]
  },
  {
   "cell_type": "markdown",
   "metadata": {},
   "source": [
    "## Аугментация\n",
    "- добавление шума из словаря на посимвольном уровне;\n",
    "- удаление пробелов с определенной вероятностью."
   ]
  },
  {
   "cell_type": "code",
   "execution_count": 167,
   "metadata": {},
   "outputs": [],
   "source": [
    "df = pd.DataFrame(lines + grameval_texts, columns=[\"trg\"])"
   ]
  },
  {
   "cell_type": "code",
   "execution_count": 168,
   "metadata": {},
   "outputs": [],
   "source": [
    "def add_noise(text, symbols=letters, znam=4):\n",
    "    text = list(text)\n",
    "    num = len(text) // znam\n",
    "    indexes = random.sample(range(0, len(text)), num)\n",
    "    for i in indexes:\n",
    "        if text[i]!=' ':\n",
    "            text[i] = random.choice(symbols)\n",
    "        else:\n",
    "            del_space = np.random.choice([True, False], p=[0.3, 0.7])\n",
    "            if del_space:\n",
    "                text[i] = text[i].replace(\" \", \"\")\n",
    "    return ''.join(text)\n",
    "\n",
    "\n",
    "df[\"src\"] = [add_noise(t, znam=4) for t in df[\"trg\"].tolist()]"
   ]
  },
  {
   "cell_type": "code",
   "execution_count": 169,
   "metadata": {},
   "outputs": [
    {
     "data": {
      "text/html": [
       "<div>\n",
       "<style scoped>\n",
       "    .dataframe tbody tr th:only-of-type {\n",
       "        vertical-align: middle;\n",
       "    }\n",
       "\n",
       "    .dataframe tbody tr th {\n",
       "        vertical-align: top;\n",
       "    }\n",
       "\n",
       "    .dataframe thead th {\n",
       "        text-align: right;\n",
       "    }\n",
       "</style>\n",
       "<table border=\"1\" class=\"dataframe\">\n",
       "  <thead>\n",
       "    <tr style=\"text-align: right;\">\n",
       "      <th></th>\n",
       "      <th>trg</th>\n",
       "      <th>src</th>\n",
       "    </tr>\n",
       "  </thead>\n",
       "  <tbody>\n",
       "    <tr>\n",
       "      <th>0</th>\n",
       "      <td>iз питербурха въ 14 д апъ петръ</td>\n",
       "      <td>iз п612рбурха въ 14д апъ пежръ</td>\n",
       "    </tr>\n",
       "    <tr>\n",
       "      <th>1</th>\n",
       "      <td>рѣля 1712</td>\n",
       "      <td>пѣля 171е</td>\n",
       "    </tr>\n",
       "    <tr>\n",
       "      <th>2</th>\n",
       "      <td>войдут в полшу то i нам волно i тогда паки</td>\n",
       "      <td>вой/ут l полшу тс i нам волн× ц 5огда пакѣ</td>\n",
       "    </tr>\n",
       "    <tr>\n",
       "      <th>3</th>\n",
       "      <td>прежнее разорение будет в полше того для лут</td>\n",
       "      <td>врежнец ]а8орениш яждет в полше тюко д[я луч</td>\n",
       "    </tr>\n",
       "    <tr>\n",
       "      <th>4</th>\n",
       "      <td>че iм малым сим удоволствоват нас нынѣ</td>\n",
       "      <td>ч/ iм малым сим мдоiолств]ѣат нас н…3ѣ</td>\n",
       "    </tr>\n",
       "  </tbody>\n",
       "</table>\n",
       "</div>"
      ],
      "text/plain": [
       "                                            trg  \\\n",
       "0               iз питербурха въ 14 д апъ петръ   \n",
       "1                                     рѣля 1712   \n",
       "2    войдут в полшу то i нам волно i тогда паки   \n",
       "3  прежнее разорение будет в полше того для лут   \n",
       "4        че iм малым сим удоволствоват нас нынѣ   \n",
       "\n",
       "                                            src  \n",
       "0                iз п612рбурха въ 14д апъ пежръ  \n",
       "1                                     пѣля 171е  \n",
       "2    вой/ут l полшу тс i нам волн× ц 5огда пакѣ  \n",
       "3  врежнец ]а8орениш яждет в полше тюко д[я луч  \n",
       "4        ч/ iм малым сим мдоiолств]ѣат нас н…3ѣ  "
      ]
     },
     "execution_count": 169,
     "metadata": {},
     "output_type": "execute_result"
    }
   ],
   "source": [
    "df.head()"
   ]
  },
  {
   "cell_type": "code",
   "execution_count": 170,
   "metadata": {},
   "outputs": [],
   "source": [
    "df[\"id\"] = np.arange(df.shape[0])"
   ]
  },
  {
   "cell_type": "code",
   "execution_count": 171,
   "metadata": {},
   "outputs": [],
   "source": [
    "df[\"cn\"] = [len(ln) for ln in df[\"trg\"].values]"
   ]
  },
  {
   "cell_type": "code",
   "execution_count": 172,
   "metadata": {},
   "outputs": [
    {
     "data": {
      "text/html": [
       "<div>\n",
       "<style scoped>\n",
       "    .dataframe tbody tr th:only-of-type {\n",
       "        vertical-align: middle;\n",
       "    }\n",
       "\n",
       "    .dataframe tbody tr th {\n",
       "        vertical-align: top;\n",
       "    }\n",
       "\n",
       "    .dataframe thead th {\n",
       "        text-align: right;\n",
       "    }\n",
       "</style>\n",
       "<table border=\"1\" class=\"dataframe\">\n",
       "  <thead>\n",
       "    <tr style=\"text-align: right;\">\n",
       "      <th></th>\n",
       "      <th>trg</th>\n",
       "      <th>src</th>\n",
       "      <th>id</th>\n",
       "      <th>cn</th>\n",
       "    </tr>\n",
       "  </thead>\n",
       "  <tbody>\n",
       "    <tr>\n",
       "      <th>0</th>\n",
       "      <td>iз питербурха въ 14 д апъ петръ</td>\n",
       "      <td>iз п612рбурха въ 14д апъ пежръ</td>\n",
       "      <td>0</td>\n",
       "      <td>31</td>\n",
       "    </tr>\n",
       "    <tr>\n",
       "      <th>1</th>\n",
       "      <td>рѣля 1712</td>\n",
       "      <td>пѣля 171е</td>\n",
       "      <td>1</td>\n",
       "      <td>9</td>\n",
       "    </tr>\n",
       "    <tr>\n",
       "      <th>2</th>\n",
       "      <td>войдут в полшу то i нам волно i тогда паки</td>\n",
       "      <td>вой/ут l полшу тс i нам волн× ц 5огда пакѣ</td>\n",
       "      <td>2</td>\n",
       "      <td>42</td>\n",
       "    </tr>\n",
       "    <tr>\n",
       "      <th>3</th>\n",
       "      <td>прежнее разорение будет в полше того для лут</td>\n",
       "      <td>врежнец ]а8орениш яждет в полше тюко д[я луч</td>\n",
       "      <td>3</td>\n",
       "      <td>44</td>\n",
       "    </tr>\n",
       "    <tr>\n",
       "      <th>4</th>\n",
       "      <td>че iм малым сим удоволствоват нас нынѣ</td>\n",
       "      <td>ч/ iм малым сим мдоiолств]ѣат нас н…3ѣ</td>\n",
       "      <td>4</td>\n",
       "      <td>38</td>\n",
       "    </tr>\n",
       "  </tbody>\n",
       "</table>\n",
       "</div>"
      ],
      "text/plain": [
       "                                            trg  \\\n",
       "0               iз питербурха въ 14 д апъ петръ   \n",
       "1                                     рѣля 1712   \n",
       "2    войдут в полшу то i нам волно i тогда паки   \n",
       "3  прежнее разорение будет в полше того для лут   \n",
       "4        че iм малым сим удоволствоват нас нынѣ   \n",
       "\n",
       "                                            src  id  cn  \n",
       "0                iз п612рбурха въ 14д апъ пежръ   0  31  \n",
       "1                                     пѣля 171е   1   9  \n",
       "2    вой/ут l полшу тс i нам волн× ц 5огда пакѣ   2  42  \n",
       "3  врежнец ]а8орениш яждет в полше тюко д[я луч   3  44  \n",
       "4        ч/ iм малым сим мдоiолств]ѣат нас н…3ѣ   4  38  "
      ]
     },
     "execution_count": 172,
     "metadata": {},
     "output_type": "execute_result"
    }
   ],
   "source": [
    "df.head()"
   ]
  },
  {
   "cell_type": "code",
   "execution_count": 173,
   "metadata": {},
   "outputs": [
    {
     "data": {
      "text/plain": [
       "['trg', 'src', 'id', 'cn']"
      ]
     },
     "execution_count": 173,
     "metadata": {},
     "output_type": "execute_result"
    }
   ],
   "source": [
    "col_names_list = df.columns.tolist()\n",
    "col_names_list"
   ]
  },
  {
   "cell_type": "code",
   "execution_count": 174,
   "metadata": {},
   "outputs": [
    {
     "data": {
      "text/html": [
       "<div>\n",
       "<style scoped>\n",
       "    .dataframe tbody tr th:only-of-type {\n",
       "        vertical-align: middle;\n",
       "    }\n",
       "\n",
       "    .dataframe tbody tr th {\n",
       "        vertical-align: top;\n",
       "    }\n",
       "\n",
       "    .dataframe thead th {\n",
       "        text-align: right;\n",
       "    }\n",
       "</style>\n",
       "<table border=\"1\" class=\"dataframe\">\n",
       "  <thead>\n",
       "    <tr style=\"text-align: right;\">\n",
       "      <th></th>\n",
       "      <th>id</th>\n",
       "      <th>src</th>\n",
       "      <th>trg</th>\n",
       "      <th>cn</th>\n",
       "    </tr>\n",
       "  </thead>\n",
       "  <tbody>\n",
       "    <tr>\n",
       "      <th>0</th>\n",
       "      <td>0</td>\n",
       "      <td>iз п612рбурха въ 14д апъ пежръ</td>\n",
       "      <td>iз питербурха въ 14 д апъ петръ</td>\n",
       "      <td>31</td>\n",
       "    </tr>\n",
       "    <tr>\n",
       "      <th>1</th>\n",
       "      <td>1</td>\n",
       "      <td>пѣля 171е</td>\n",
       "      <td>рѣля 1712</td>\n",
       "      <td>9</td>\n",
       "    </tr>\n",
       "    <tr>\n",
       "      <th>2</th>\n",
       "      <td>2</td>\n",
       "      <td>вой/ут l полшу тс i нам волн× ц 5огда пакѣ</td>\n",
       "      <td>войдут в полшу то i нам волно i тогда паки</td>\n",
       "      <td>42</td>\n",
       "    </tr>\n",
       "    <tr>\n",
       "      <th>3</th>\n",
       "      <td>3</td>\n",
       "      <td>врежнец ]а8орениш яждет в полше тюко д[я луч</td>\n",
       "      <td>прежнее разорение будет в полше того для лут</td>\n",
       "      <td>44</td>\n",
       "    </tr>\n",
       "    <tr>\n",
       "      <th>4</th>\n",
       "      <td>4</td>\n",
       "      <td>ч/ iм малым сим мдоiолств]ѣат нас н…3ѣ</td>\n",
       "      <td>че iм малым сим удоволствоват нас нынѣ</td>\n",
       "      <td>38</td>\n",
       "    </tr>\n",
       "  </tbody>\n",
       "</table>\n",
       "</div>"
      ],
      "text/plain": [
       "   id                                           src  \\\n",
       "0   0                iз п612рбурха въ 14д апъ пежръ   \n",
       "1   1                                     пѣля 171е   \n",
       "2   2    вой/ут l полшу тс i нам волн× ц 5огда пакѣ   \n",
       "3   3  врежнец ]а8орениш яждет в полше тюко д[я луч   \n",
       "4   4        ч/ iм малым сим мдоiолств]ѣат нас н…3ѣ   \n",
       "\n",
       "                                            trg  cn  \n",
       "0               iз питербурха въ 14 д апъ петръ  31  \n",
       "1                                     рѣля 1712   9  \n",
       "2    войдут в полшу то i нам волно i тогда паки  42  \n",
       "3  прежнее разорение будет в полше того для лут  44  \n",
       "4        че iм малым сим удоволствоват нас нынѣ  38  "
      ]
     },
     "execution_count": 174,
     "metadata": {},
     "output_type": "execute_result"
    }
   ],
   "source": [
    "df = df[[col_names_list[2], col_names_list[1], col_names_list[0], col_names_list[3]]]\n",
    "df.head()"
   ]
  },
  {
   "cell_type": "code",
   "execution_count": 175,
   "metadata": {},
   "outputs": [
    {
     "name": "stdout",
     "output_type": "stream",
     "text": [
      "<class 'pandas.core.frame.DataFrame'>\n",
      "RangeIndex: 290727 entries, 0 to 290726\n",
      "Data columns (total 4 columns):\n",
      " #   Column  Non-Null Count   Dtype \n",
      "---  ------  --------------   ----- \n",
      " 0   id      290727 non-null  int32 \n",
      " 1   src     290727 non-null  object\n",
      " 2   trg     290727 non-null  object\n",
      " 3   cn      290727 non-null  int64 \n",
      "dtypes: int32(1), int64(1), object(2)\n",
      "memory usage: 7.8+ MB\n"
     ]
    }
   ],
   "source": [
    "df.info()"
   ]
  },
  {
   "cell_type": "code",
   "execution_count": 176,
   "metadata": {},
   "outputs": [
    {
     "data": {
      "text/html": [
       "<div>\n",
       "<style scoped>\n",
       "    .dataframe tbody tr th:only-of-type {\n",
       "        vertical-align: middle;\n",
       "    }\n",
       "\n",
       "    .dataframe tbody tr th {\n",
       "        vertical-align: top;\n",
       "    }\n",
       "\n",
       "    .dataframe thead th {\n",
       "        text-align: right;\n",
       "    }\n",
       "</style>\n",
       "<table border=\"1\" class=\"dataframe\">\n",
       "  <thead>\n",
       "    <tr style=\"text-align: right;\">\n",
       "      <th></th>\n",
       "      <th>id</th>\n",
       "      <th>src</th>\n",
       "      <th>trg</th>\n",
       "      <th>cn</th>\n",
       "    </tr>\n",
       "  </thead>\n",
       "  <tbody>\n",
       "  </tbody>\n",
       "</table>\n",
       "</div>"
      ],
      "text/plain": [
       "Empty DataFrame\n",
       "Columns: [id, src, trg, cn]\n",
       "Index: []"
      ]
     },
     "execution_count": 176,
     "metadata": {},
     "output_type": "execute_result"
    }
   ],
   "source": [
    "df.loc[df[\"cn\"] == 0]"
   ]
  },
  {
   "cell_type": "code",
   "execution_count": 177,
   "metadata": {},
   "outputs": [
    {
     "data": {
      "text/html": [
       "<div>\n",
       "<style scoped>\n",
       "    .dataframe tbody tr th:only-of-type {\n",
       "        vertical-align: middle;\n",
       "    }\n",
       "\n",
       "    .dataframe tbody tr th {\n",
       "        vertical-align: top;\n",
       "    }\n",
       "\n",
       "    .dataframe thead th {\n",
       "        text-align: right;\n",
       "    }\n",
       "</style>\n",
       "<table border=\"1\" class=\"dataframe\">\n",
       "  <thead>\n",
       "    <tr style=\"text-align: right;\">\n",
       "      <th></th>\n",
       "      <th>id</th>\n",
       "      <th>src</th>\n",
       "      <th>trg</th>\n",
       "      <th>cn</th>\n",
       "    </tr>\n",
       "  </thead>\n",
       "  <tbody>\n",
       "    <tr>\n",
       "      <th>13465</th>\n",
       "      <td>13465</td>\n",
       "      <td>грамота ие–а пютріарйа 110 го г1дн что днн0 вk...</td>\n",
       "      <td>грамота иева патриарха 110 го году что дана во...</td>\n",
       "      <td>87</td>\n",
       "    </tr>\n",
       "    <tr>\n",
       "      <th>27522</th>\n",
       "      <td>27522</td>\n",
       "      <td>и чокцоняемыщ го трііцф во единоиъ бзжествѣ те...</td>\n",
       "      <td>и поклоняемый во троицы во единомъ божествѣ те...</td>\n",
       "      <td>82</td>\n",
       "    </tr>\n",
       "    <tr>\n",
       "      <th>33649</th>\n",
       "      <td>33649</td>\n",
       "      <td>дарофѣй егмже крѣпное житие сазч мрмымцритъ iщ...</td>\n",
       "      <td>дорофѣй егоже крѣпкое житие самъ архимаритъ ещ...</td>\n",
       "      <td>82</td>\n",
       "    </tr>\n",
       "    <tr>\n",
       "      <th>33803</th>\n",
       "      <td>33803</td>\n",
       "      <td>ǂожига9⊗и ⊗ всякими кkвеынамиосв]рняеми паче ж...</td>\n",
       "      <td>сожигаеми и всякими сквернами осверняеми паче ...</td>\n",
       "      <td>82</td>\n",
       "    </tr>\n",
       "    <tr>\n",
       "      <th>36604</th>\n",
       "      <td>36604</td>\n",
       "      <td>а х4тѣни– свожму ласканичм пшево[водя оѣ1ты 3м...</td>\n",
       "      <td>к хотѣнию своему ласканием превозводя обѣты им...</td>\n",
       "      <td>82</td>\n",
       "    </tr>\n",
       "    <tr>\n",
       "      <th>37221</th>\n",
       "      <td>37221</td>\n",
       "      <td>ф2кавщн ащь и образомэ к0×крнымъ яв5яшежя к не...</td>\n",
       "      <td>лукавыя аще и образомъ коварнымъ являшеся к не...</td>\n",
       "      <td>84</td>\n",
       "    </tr>\n",
       "    <tr>\n",
       "      <th>37573</th>\n",
       "      <td>37573</td>\n",
       "      <td>итоли6ц множх8тв9пл[iкихъ людей і лиǂовъ]ких и...</td>\n",
       "      <td>и толико множество полскихъ людей и литовъских...</td>\n",
       "      <td>83</td>\n",
       "    </tr>\n",
       "    <tr>\n",
       "      <th>39532</th>\n",
       "      <td>39532</td>\n",
       "      <td>где ув бвой делъсь что сицеуничижатб–н⊗нпоіедо...</td>\n",
       "      <td>где ум твой делъся что сице уничижателно о поб...</td>\n",
       "      <td>82</td>\n",
       "    </tr>\n",
       "    <tr>\n",
       "      <th>53537</th>\n",
       "      <td>53537</td>\n",
       "      <td>а ыаъ ѣтолба и отф ямы до ямской слкбоды п8пр/...</td>\n",
       "      <td>а отъ столба и отъ ямы до ямской слободы напра...</td>\n",
       "      <td>84</td>\n",
       "    </tr>\n",
       "    <tr>\n",
       "      <th>56783</th>\n",
       "      <td>56783</td>\n",
       "      <td>его вохяошаем5а объпти сши сл/шомъ тобромыслен...</td>\n",
       "      <td>его вопрошаемое объяти сши словомъ добромыслен...</td>\n",
       "      <td>82</td>\n",
       "    </tr>\n",
       "    <tr>\n",
       "      <th>58826</th>\n",
       "      <td>58826</td>\n",
       "      <td>ипрк×ъ мажемъ от– держаkнаго тогда въ наджа мж...</td>\n",
       "      <td>и предъ малемъ отъ державнаго тогда въ надра м...</td>\n",
       "      <td>82</td>\n",
       "    </tr>\n",
       "    <tr>\n",
       "      <th>70365</th>\n",
       "      <td>70365</td>\n",
       "      <td>аки кади вм…сто вона повѣшеца вонятъ ии8яе вся...</td>\n",
       "      <td>аки кади вмѣсто вона повѣшена вонятъ и иные вс...</td>\n",
       "      <td>84</td>\n",
       "    </tr>\n",
       "    <tr>\n",
       "      <th>73466</th>\n",
       "      <td>73466</td>\n",
       "      <td>и яар2к1чюмъ т×9у есо слоау йе –2веролъ и пнки...</td>\n",
       "      <td>и царь кучюмъ тому ево слову не поверилъ и пак...</td>\n",
       "      <td>83</td>\n",
       "    </tr>\n",
       "    <tr>\n",
       "      <th>92108</th>\n",
       "      <td>92108</td>\n",
       "      <td>в ле4о 7116 го году октрб+я в т ьънь тулские э...</td>\n",
       "      <td>в лето 7116 го году октября в 3 день тулские в...</td>\n",
       "      <td>82</td>\n",
       "    </tr>\n",
       "    <tr>\n",
       "      <th>94845</th>\n",
       "      <td>94845</td>\n",
       "      <td>4укlма и тако входят мо свяп9й алм1– и прлводя...</td>\n",
       "      <td>рукама и тако входят во святый алтар и приводя...</td>\n",
       "      <td>82</td>\n",
       "    </tr>\n",
       "    <tr>\n",
       "      <th>108238</th>\n",
       "      <td>108238</td>\n",
       "      <td>да въ житницах1 0ъ 1х… 9ы⊕у в8 144 году бащо э...</td>\n",
       "      <td>да въ житницахъ съ 143 году въ 144 году было х...</td>\n",
       "      <td>83</td>\n",
       "    </tr>\n",
       "    <tr>\n",
       "      <th>132292</th>\n",
       "      <td>132292</td>\n",
       "      <td>1 вы бк 9а /ѣхъ х5лсюи5ъ и ли)]всбихъ лодей по...</td>\n",
       "      <td>и вы бъ на тѣхъ полскихъ и литовскихъ людей по...</td>\n",
       "      <td>82</td>\n",
       "    </tr>\n",
       "    <tr>\n",
       "      <th>168038</th>\n",
       "      <td>168038</td>\n",
       "      <td>нешиодча гатріарха москюпскаьо и всеа русіi зъ...</td>\n",
       "      <td>никитича патріарха московскаго и всеа русіи къ...</td>\n",
       "      <td>82</td>\n",
       "    </tr>\n",
       "    <tr>\n",
       "      <th>188974</th>\n",
       "      <td>188974</td>\n",
       "      <td>въ пво×ламъво 207 году маотавъ … ден2 блаk3во3...</td>\n",
       "      <td>въ прошломъ во 207 году марта въ … день благов...</td>\n",
       "      <td>85</td>\n",
       "    </tr>\n",
       "    <tr>\n",
       "      <th>234611</th>\n",
       "      <td>234611</td>\n",
       "      <td>0ел6чес3ва гонц2 ǂасцлью шпилкину л петру микл...</td>\n",
       "      <td>величества гонцу василью шпилкину и петру микл...</td>\n",
       "      <td>82</td>\n",
       "    </tr>\n",
       "    <tr>\n",
       "      <th>245760</th>\n",
       "      <td>245760</td>\n",
       "      <td>б7ус и го2ірил отк4рл4екны д/носил сеи дэ госу...</td>\n",
       "      <td>боус и говорил от королевны доносил деи до гос...</td>\n",
       "      <td>82</td>\n",
       "    </tr>\n",
       "    <tr>\n",
       "      <th>246814</th>\n",
       "      <td>246814</td>\n",
       "      <td>дм кщ6зь елизарей же хоб3 го ор4л гр×горью гжс...</td>\n",
       "      <td>да князь елизарей же хоби говорил григорью гос...</td>\n",
       "      <td>82</td>\n",
       "    </tr>\n",
       "    <tr>\n",
       "      <th>257645</th>\n",
       "      <td>257645</td>\n",
       "      <td>зск2ыенение и разрушiниѣ овестгуе1ня свябым× п...</td>\n",
       "      <td>искоренение и разрушение повествуется святыми ...</td>\n",
       "      <td>83</td>\n",
       "    </tr>\n",
       "    <tr>\n",
       "      <th>270334</th>\n",
       "      <td>270334</td>\n",
       "      <td>дол пол полчятвцрик горо⊗у шедедят оина нетi с...</td>\n",
       "      <td>пол пол полчетверик гороху шедесят одна четь с...</td>\n",
       "      <td>82</td>\n",
       "    </tr>\n",
       "    <tr>\n",
       "      <th>270495</th>\n",
       "      <td>270495</td>\n",
       "      <td>інатцаэь 8чть четвертей с пклуобьминою бе поип...</td>\n",
       "      <td>дватцать пять четвертей с полуосьминою бе пол ...</td>\n",
       "      <td>82</td>\n",
       "    </tr>\n",
       "    <tr>\n",
       "      <th>282406</th>\n",
       "      <td>282406</td>\n",
       "      <td>отнлсут в сосмдоираkителн2цу а ]к2ло тех мушо–...</td>\n",
       "      <td>отнесут в сосудохранителницу а около тех духов...</td>\n",
       "      <td>82</td>\n",
       "    </tr>\n",
       "    <tr>\n",
       "      <th>285777</th>\n",
       "      <td>285777</td>\n",
       "      <td>…убшрзажор прмводил меня сыря×н4ю учтѣвосѣию ]...</td>\n",
       "      <td>губернатор проводил меня с ырядною учтивостию ...</td>\n",
       "      <td>82</td>\n",
       "    </tr>\n",
       "  </tbody>\n",
       "</table>\n",
       "</div>"
      ],
      "text/plain": [
       "            id                                                src  \\\n",
       "13465    13465  грамота ие–а пютріарйа 110 го г1дн что днн0 вk...   \n",
       "27522    27522  и чокцоняемыщ го трііцф во единоиъ бзжествѣ те...   \n",
       "33649    33649  дарофѣй егмже крѣпное житие сазч мрмымцритъ iщ...   \n",
       "33803    33803  ǂожига9⊗и ⊗ всякими кkвеынамиосв]рняеми паче ж...   \n",
       "36604    36604  а х4тѣни– свожму ласканичм пшево[водя оѣ1ты 3м...   \n",
       "37221    37221  ф2кавщн ащь и образомэ к0×крнымъ яв5яшежя к не...   \n",
       "37573    37573  итоли6ц множх8тв9пл[iкихъ людей і лиǂовъ]ких и...   \n",
       "39532    39532  где ув бвой делъсь что сицеуничижатб–н⊗нпоіедо...   \n",
       "53537    53537  а ыаъ ѣтолба и отф ямы до ямской слкбоды п8пр/...   \n",
       "56783    56783  его вохяошаем5а объпти сши сл/шомъ тобромыслен...   \n",
       "58826    58826  ипрк×ъ мажемъ от– держаkнаго тогда въ наджа мж...   \n",
       "70365    70365  аки кади вм…сто вона повѣшеца вонятъ ии8яе вся...   \n",
       "73466    73466  и яар2к1чюмъ т×9у есо слоау йе –2веролъ и пнки...   \n",
       "92108    92108  в ле4о 7116 го году октрб+я в т ьънь тулские э...   \n",
       "94845    94845  4укlма и тако входят мо свяп9й алм1– и прлводя...   \n",
       "108238  108238  да въ житницах1 0ъ 1х… 9ы⊕у в8 144 году бащо э...   \n",
       "132292  132292  1 вы бк 9а /ѣхъ х5лсюи5ъ и ли)]всбихъ лодей по...   \n",
       "168038  168038  нешиодча гатріарха москюпскаьо и всеа русіi зъ...   \n",
       "188974  188974  въ пво×ламъво 207 году маотавъ … ден2 блаk3во3...   \n",
       "234611  234611  0ел6чес3ва гонц2 ǂасцлью шпилкину л петру микл...   \n",
       "245760  245760  б7ус и го2ірил отк4рл4екны д/носил сеи дэ госу...   \n",
       "246814  246814  дм кщ6зь елизарей же хоб3 го ор4л гр×горью гжс...   \n",
       "257645  257645  зск2ыенение и разрушiниѣ овестгуе1ня свябым× п...   \n",
       "270334  270334  дол пол полчятвцрик горо⊗у шедедят оина нетi с...   \n",
       "270495  270495  інатцаэь 8чть четвертей с пклуобьминою бе поип...   \n",
       "282406  282406  отнлсут в сосмдоираkителн2цу а ]к2ло тех мушо–...   \n",
       "285777  285777  …убшрзажор прмводил меня сыря×н4ю учтѣвосѣию ]...   \n",
       "\n",
       "                                                      trg  cn  \n",
       "13465   грамота иева патриарха 110 го году что дана во...  87  \n",
       "27522   и поклоняемый во троицы во единомъ божествѣ те...  82  \n",
       "33649   дорофѣй егоже крѣпкое житие самъ архимаритъ ещ...  82  \n",
       "33803   сожигаеми и всякими сквернами осверняеми паче ...  82  \n",
       "36604   к хотѣнию своему ласканием превозводя обѣты им...  82  \n",
       "37221   лукавыя аще и образомъ коварнымъ являшеся к не...  84  \n",
       "37573   и толико множество полскихъ людей и литовъских...  83  \n",
       "39532   где ум твой делъся что сице уничижателно о поб...  82  \n",
       "53537   а отъ столба и отъ ямы до ямской слободы напра...  84  \n",
       "56783   его вопрошаемое объяти сши словомъ добромыслен...  82  \n",
       "58826   и предъ малемъ отъ державнаго тогда въ надра м...  82  \n",
       "70365   аки кади вмѣсто вона повѣшена вонятъ и иные вс...  84  \n",
       "73466   и царь кучюмъ тому ево слову не поверилъ и пак...  83  \n",
       "92108   в лето 7116 го году октября в 3 день тулские в...  82  \n",
       "94845   рукама и тако входят во святый алтар и приводя...  82  \n",
       "108238  да въ житницахъ съ 143 году въ 144 году было х...  83  \n",
       "132292  и вы бъ на тѣхъ полскихъ и литовскихъ людей по...  82  \n",
       "168038  никитича патріарха московскаго и всеа русіи къ...  82  \n",
       "188974  въ прошломъ во 207 году марта въ … день благов...  85  \n",
       "234611  величества гонцу василью шпилкину и петру микл...  82  \n",
       "245760  боус и говорил от королевны доносил деи до гос...  82  \n",
       "246814  да князь елизарей же хоби говорил григорью гос...  82  \n",
       "257645  искоренение и разрушение повествуется святыми ...  83  \n",
       "270334  пол пол полчетверик гороху шедесят одна четь с...  82  \n",
       "270495  дватцать пять четвертей с полуосьминою бе пол ...  82  \n",
       "282406  отнесут в сосудохранителницу а около тех духов...  82  \n",
       "285777  губернатор проводил меня с ырядною учтивостию ...  82  "
      ]
     },
     "execution_count": 177,
     "metadata": {},
     "output_type": "execute_result"
    }
   ],
   "source": [
    "df.loc[df[\"cn\"] > 81]"
   ]
  },
  {
   "cell_type": "code",
   "execution_count": 178,
   "metadata": {},
   "outputs": [],
   "source": [
    "df.to_csv(\"augmented_data.csv\", index=False)"
   ]
  },
  {
   "cell_type": "markdown",
   "metadata": {},
   "source": [
    "## Используем заранее аугментированные данные, где:\n",
    "- id – id семпла;\n",
    "- src – исходная последовательность;\n",
    "- trg – целевая последовательность;\n",
    "- cn – длина исходной последовательности в символах.\n",
    "\n",
    "Датафрейм включает в себя аугментацию предиктов бейзлайна на валидационном сете (baseline.ipynb) и предложений из grameval_17_century.txt."
   ]
  },
  {
   "cell_type": "code",
   "execution_count": null,
   "metadata": {},
   "outputs": [],
   "source": []
  }
 ],
 "metadata": {
  "kernelspec": {
   "display_name": "Python 3",
   "language": "python",
   "name": "python3"
  },
  "language_info": {
   "codemirror_mode": {
    "name": "ipython",
    "version": 3
   },
   "file_extension": ".py",
   "mimetype": "text/x-python",
   "name": "python",
   "nbconvert_exporter": "python",
   "pygments_lexer": "ipython3",
   "version": "3.8.3"
  }
 },
 "nbformat": 4,
 "nbformat_minor": 4
}
